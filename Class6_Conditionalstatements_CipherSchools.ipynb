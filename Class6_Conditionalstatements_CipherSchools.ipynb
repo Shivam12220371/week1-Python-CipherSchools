{
  "nbformat": 4,
  "nbformat_minor": 0,
  "metadata": {
    "colab": {
      "provenance": []
    },
    "kernelspec": {
      "name": "python3",
      "display_name": "Python 3"
    },
    "language_info": {
      "name": "python"
    }
  },
  "cells": [
    {
      "cell_type": "code",
      "source": [
        "if (true) {\n",
        "    \n",
        "    \n",
        "}"
      ],
      "metadata": {
        "id": "FbwVdwpRsdF4"
      },
      "execution_count": null,
      "outputs": []
    },
    {
      "cell_type": "code",
      "source": [
        "a=True\n",
        "if True"
      ],
      "metadata": {
        "id": "oWT42qFUshGF"
      },
      "execution_count": null,
      "outputs": []
    },
    {
      "cell_type": "code",
      "source": [
        "# askldjf\n",
        "    # asdf\n",
        "    # alksdjf\n",
        "# asdf"
      ],
      "metadata": {
        "id": "RHoIYWBnr4zn"
      },
      "execution_count": null,
      "outputs": []
    },
    {
      "cell_type": "code",
      "source": [
        "#1 indent = 2 spaces, 4 spaces, tab, 8 spaces"
      ],
      "metadata": {
        "id": "m7197Pnfr5iW"
      },
      "execution_count": null,
      "outputs": []
    },
    {
      "cell_type": "code",
      "source": [
        "a = False\n",
        "\n",
        "if a:\n",
        "  print(\"the value is true\")\n",
        "print(\"end\")"
      ],
      "metadata": {
        "id": "oO68i7I4r8HN"
      },
      "execution_count": null,
      "outputs": []
    },
    {
      "cell_type": "code",
      "source": [
        "a = True\n",
        "\n",
        "if a:\n",
        "  print(\"the value is true\")\n",
        "print(\"end\")"
      ],
      "metadata": {
        "id": "KmovH77Lr-L5"
      },
      "execution_count": null,
      "outputs": []
    },
    {
      "cell_type": "code",
      "source": [
        "a = True\n",
        "\n",
        "if a:\n",
        "  print(\"this value is true\")\n",
        "else:\n",
        "  print(\"this is false\")"
      ],
      "metadata": {
        "id": "LamI8RrzsAOB"
      },
      "execution_count": null,
      "outputs": []
    },
    {
      "cell_type": "code",
      "source": [
        "a = 5\n",
        "\n",
        "if a == 3:\n",
        "  print(\"the value is 3\")\n",
        "elif a== 5:\n",
        "  print(\"this value is 5\")"
      ],
      "metadata": {
        "id": "FhNxw9IusChg"
      },
      "execution_count": null,
      "outputs": []
    },
    {
      "cell_type": "code",
      "source": [
        "(\n",
        "    int a = 1\n",
        ")\n",
        "cout << a;"
      ],
      "metadata": {
        "id": "Jpo-DpwNsE_7"
      },
      "execution_count": null,
      "outputs": []
    },
    {
      "cell_type": "code",
      "source": [
        "a = 5\n",
        "\n",
        "if a == 3:\n",
        "  print(\"this value is 3\")\n",
        "elif a == 5:\n",
        "  print(\"this value is 5\")\n",
        "else:\n",
        "  print(\"this value is not 3 or 5\")"
      ],
      "metadata": {
        "id": "8E7JojCDsHXj"
      },
      "execution_count": null,
      "outputs": []
    },
    {
      "cell_type": "code",
      "source": [
        "x: int (-inf, inf)\n",
        "G -> x\n",
        "\n",
        "a = x < 0\n",
        "b = x == 0\n",
        "c = x > 0\n",
        "\n",
        "a int b = b int c = a int c = phi\n",
        "\n",
        "a u b u c := G\n",
        "\n",
        "#conditions are mutually exclusive"
      ],
      "metadata": {
        "id": "E33UKlp1sJjZ"
      },
      "execution_count": null,
      "outputs": []
    },
    {
      "cell_type": "code",
      "source": [
        "#Whats not cool with this approach?\n",
        "if x < 0:\n",
        "  sign = -1\n",
        "if x == 0:\n",
        "  sign = 0\n",
        "if x > 0:\n",
        "  sign = 1"
      ],
      "metadata": {
        "id": "ItKbR6F1sMaT"
      },
      "execution_count": null,
      "outputs": []
    },
    {
      "cell_type": "code",
      "source": [
        "q = can profile A access profile B\n",
        "\n",
        "a = isFriend\n",
        "b = isBlocked\n",
        "c = isAdmin\n",
        "d = isMarkzuckerburg\n",
        "\n",
        "a b c d q\n",
        "0 0 0 0 0\n",
        "0 0 0 1 1\n",
        "0 0 1 0 1\n",
        "0 0 1 1 1\n",
        "0 1 0 0 0 \n",
        "0 1 0 1 1\n",
        "0 1 1 0 0\n",
        "0 1 1 1 1\n",
        "1 0 0 0 1\n",
        "1 0 0 1 1\n",
        "1 0 1 0 1\n",
        "1 0 1 1 1\n",
        "1 1 0 0 0\n",
        "1 1 0 1 1\n",
        "1 1 1 0 0 \n",
        "1 1 1 1 1\n",
        "\n",
        "if ____:\n",
        "  print(\"has access\")\n",
        "else:\n",
        "  print(\"access denied\")"
      ],
      "metadata": {
        "id": "eymzifUwsOzr"
      },
      "execution_count": null,
      "outputs": []
    }
  ]
}