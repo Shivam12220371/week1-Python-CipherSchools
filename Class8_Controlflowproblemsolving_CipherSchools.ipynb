{
  "nbformat": 4,
  "nbformat_minor": 0,
  "metadata": {
    "colab": {
      "provenance": []
    },
    "kernelspec": {
      "name": "python3",
      "display_name": "Python 3"
    },
    "language_info": {
      "name": "python"
    }
  },
  "cells": [
    {
      "cell_type": "code",
      "execution_count": 1,
      "metadata": {
        "colab": {
          "base_uri": "https://localhost:8080/"
        },
        "id": "kPBiOotYuoSY",
        "outputId": "6fa6fbb5-9102-451f-e00a-bbff1803dc5c"
      },
      "outputs": [
        {
          "output_type": "stream",
          "name": "stdout",
          "text": [
            "0 0 0 0 0 \n",
            "1 1 1 1 1 \n",
            "2 2 2 2 2 \n",
            "3 3 3 3 3 \n",
            "4 4 4 4 4 \n"
          ]
        }
      ],
      "source": [
        "n = 5\n",
        "for i in range(n):\n",
        "    for j in range(n):\n",
        "        print(i, end = \" \")\n",
        "    print()"
      ]
    },
    {
      "cell_type": "code",
      "source": [
        "n = 5\n",
        "for i in range(n):\n",
        "  for j in range(n):\n",
        "    print(i, end = \" \")\n",
        "    print()"
      ],
      "metadata": {
        "colab": {
          "base_uri": "https://localhost:8080/"
        },
        "id": "kcRHqBXEuz5R",
        "outputId": "fb3e7454-bf63-4c1f-ad4d-6ad684592e74"
      },
      "execution_count": 2,
      "outputs": [
        {
          "output_type": "stream",
          "name": "stdout",
          "text": [
            "0 \n",
            "0 \n",
            "0 \n",
            "0 \n",
            "0 \n",
            "1 \n",
            "1 \n",
            "1 \n",
            "1 \n",
            "1 \n",
            "2 \n",
            "2 \n",
            "2 \n",
            "2 \n",
            "2 \n",
            "3 \n",
            "3 \n",
            "3 \n",
            "3 \n",
            "3 \n",
            "4 \n",
            "4 \n",
            "4 \n",
            "4 \n",
            "4 \n"
          ]
        }
      ]
    },
    {
      "cell_type": "code",
      "source": [
        "n = 5\n",
        "for i in range(n):\n",
        "    for j in range(n):\n",
        "        print(n-j, end = \" \")\n",
        "    print()"
      ],
      "metadata": {
        "colab": {
          "base_uri": "https://localhost:8080/"
        },
        "id": "5lktYJM7vAFR",
        "outputId": "ce5138f4-4ce1-4ad5-eb2c-2647e113f7d5"
      },
      "execution_count": 3,
      "outputs": [
        {
          "output_type": "stream",
          "name": "stdout",
          "text": [
            "5 4 3 2 1 \n",
            "5 4 3 2 1 \n",
            "5 4 3 2 1 \n",
            "5 4 3 2 1 \n",
            "5 4 3 2 1 \n"
          ]
        }
      ]
    },
    {
      "cell_type": "code",
      "source": [
        "n = 5\n",
        "for i in range(n):\n",
        "    for j in range(n):\n",
        "        print(n-j-1, end = \" \")\n",
        "    print()\n",
        "In [] ]:"
      ],
      "metadata": {
        "id": "ZO-EQDAPvCka"
      },
      "execution_count": null,
      "outputs": []
    },
    {
      "cell_type": "code",
      "source": [
        "n = 5\n",
        "for i in range(n):\n",
        "    for j in range(n):\n",
        "        print(j+1, end = \" \")\n",
        "    print()"
      ],
      "metadata": {
        "colab": {
          "base_uri": "https://localhost:8080/"
        },
        "id": "5_U8UNkevEbh",
        "outputId": "5861618a-953a-41a4-b5c0-afcae70364fc"
      },
      "execution_count": 6,
      "outputs": [
        {
          "output_type": "stream",
          "name": "stdout",
          "text": [
            "1 2 3 4 5 \n",
            "1 2 3 4 5 \n",
            "1 2 3 4 5 \n",
            "1 2 3 4 5 \n",
            "1 2 3 4 5 \n"
          ]
        }
      ]
    },
    {
      "cell_type": "code",
      "source": [
        "max(1, 2, 3, 4, 5, 7)"
      ],
      "metadata": {
        "colab": {
          "base_uri": "https://localhost:8080/"
        },
        "id": "HzG8EWU0vGg6",
        "outputId": "d1553f87-58b8-414b-8a62-2ba3cb7041d4"
      },
      "execution_count": 7,
      "outputs": [
        {
          "output_type": "execute_result",
          "data": {
            "text/plain": [
              "7"
            ]
          },
          "metadata": {},
          "execution_count": 7
        }
      ]
    },
    {
      "cell_type": "code",
      "source": [
        "n = 18\n",
        "for i in range(n):\n",
        "    for j in range(n):\n",
        "        print(max(i+1, j+1, n-i, n-j), end = \" \")\n",
        "    print()"
      ],
      "metadata": {
        "colab": {
          "base_uri": "https://localhost:8080/"
        },
        "id": "ueJ5-h4RvIWI",
        "outputId": "2d1cf1f8-5164-4f62-864e-5bfadd75d7c9"
      },
      "execution_count": 8,
      "outputs": [
        {
          "output_type": "stream",
          "name": "stdout",
          "text": [
            "18 18 18 18 18 18 18 18 18 18 18 18 18 18 18 18 18 18 \n",
            "18 17 17 17 17 17 17 17 17 17 17 17 17 17 17 17 17 18 \n",
            "18 17 16 16 16 16 16 16 16 16 16 16 16 16 16 16 17 18 \n",
            "18 17 16 15 15 15 15 15 15 15 15 15 15 15 15 16 17 18 \n",
            "18 17 16 15 14 14 14 14 14 14 14 14 14 14 15 16 17 18 \n",
            "18 17 16 15 14 13 13 13 13 13 13 13 13 14 15 16 17 18 \n",
            "18 17 16 15 14 13 12 12 12 12 12 12 13 14 15 16 17 18 \n",
            "18 17 16 15 14 13 12 11 11 11 11 12 13 14 15 16 17 18 \n",
            "18 17 16 15 14 13 12 11 10 10 11 12 13 14 15 16 17 18 \n",
            "18 17 16 15 14 13 12 11 10 10 11 12 13 14 15 16 17 18 \n",
            "18 17 16 15 14 13 12 11 11 11 11 12 13 14 15 16 17 18 \n",
            "18 17 16 15 14 13 12 12 12 12 12 12 13 14 15 16 17 18 \n",
            "18 17 16 15 14 13 13 13 13 13 13 13 13 14 15 16 17 18 \n",
            "18 17 16 15 14 14 14 14 14 14 14 14 14 14 15 16 17 18 \n",
            "18 17 16 15 15 15 15 15 15 15 15 15 15 15 15 16 17 18 \n",
            "18 17 16 16 16 16 16 16 16 16 16 16 16 16 16 16 17 18 \n",
            "18 17 17 17 17 17 17 17 17 17 17 17 17 17 17 17 17 18 \n",
            "18 18 18 18 18 18 18 18 18 18 18 18 18 18 18 18 18 18 \n"
          ]
        }
      ]
    },
    {
      "cell_type": "code",
      "source": [
        "n = 5\n",
        "for i in range(n):\n",
        "    for j in range(n):\n",
        "      i, j\n",
        "      print((i,j), end = \" \")\n",
        "    print()"
      ],
      "metadata": {
        "colab": {
          "base_uri": "https://localhost:8080/"
        },
        "id": "sdOe7U7xvLO-",
        "outputId": "78bf82d6-6d62-46ed-ee91-6e04a819c415"
      },
      "execution_count": 9,
      "outputs": [
        {
          "output_type": "stream",
          "name": "stdout",
          "text": [
            "(0, 0) (0, 1) (0, 2) (0, 3) (0, 4) \n",
            "(1, 0) (1, 1) (1, 2) (1, 3) (1, 4) \n",
            "(2, 0) (2, 1) (2, 2) (2, 3) (2, 4) \n",
            "(3, 0) (3, 1) (3, 2) (3, 3) (3, 4) \n",
            "(4, 0) (4, 1) (4, 2) (4, 3) (4, 4) \n"
          ]
        }
      ]
    },
    {
      "cell_type": "code",
      "source": [
        "for i in range(n):\n",
        "    for j in range(n):\n",
        "        print(i, end = \" \")\n",
        "    print()"
      ],
      "metadata": {
        "colab": {
          "base_uri": "https://localhost:8080/"
        },
        "id": "htUZcag5vON8",
        "outputId": "20156e0f-bdaa-4731-ba60-e37e7bfe2515"
      },
      "execution_count": 10,
      "outputs": [
        {
          "output_type": "stream",
          "name": "stdout",
          "text": [
            "0 0 0 0 0 \n",
            "1 1 1 1 1 \n",
            "2 2 2 2 2 \n",
            "3 3 3 3 3 \n",
            "4 4 4 4 4 \n"
          ]
        }
      ]
    },
    {
      "cell_type": "code",
      "source": [
        "n = 5\n",
        "for i in range(n):\n",
        "    for j in range(n):\n",
        "        print(j, end = \" \")\n",
        "    print()"
      ],
      "metadata": {
        "colab": {
          "base_uri": "https://localhost:8080/"
        },
        "id": "2RnOMncYvQOs",
        "outputId": "62ebc70a-0ff8-428e-cda1-95c06b840073"
      },
      "execution_count": 11,
      "outputs": [
        {
          "output_type": "stream",
          "name": "stdout",
          "text": [
            "0 1 2 3 4 \n",
            "0 1 2 3 4 \n",
            "0 1 2 3 4 \n",
            "0 1 2 3 4 \n",
            "0 1 2 3 4 \n"
          ]
        }
      ]
    },
    {
      "cell_type": "code",
      "source": [
        "n = 5\n",
        "for i in range(n):\n",
        "    for j in range(n):\n",
        "        print(max(i,j), end = \" \")\n",
        "    print()"
      ],
      "metadata": {
        "colab": {
          "base_uri": "https://localhost:8080/"
        },
        "id": "NDiL5SbOvTb3",
        "outputId": "c04a7c1a-82e4-4878-a5db-91e9681cc875"
      },
      "execution_count": 12,
      "outputs": [
        {
          "output_type": "stream",
          "name": "stdout",
          "text": [
            "0 1 2 3 4 \n",
            "1 1 2 3 4 \n",
            "2 2 2 3 4 \n",
            "3 3 3 3 4 \n",
            "4 4 4 4 4 \n"
          ]
        }
      ]
    },
    {
      "cell_type": "code",
      "source": [
        "n = 5\n",
        "for i in range(n):\n",
        "    for j in range(n):\n",
        "        print(n-i, end = \" \")\n",
        "    print()"
      ],
      "metadata": {
        "colab": {
          "base_uri": "https://localhost:8080/"
        },
        "id": "so54osEFvVd9",
        "outputId": "6c885c3f-2f78-496f-ff7b-0b9dff01e7a4"
      },
      "execution_count": 13,
      "outputs": [
        {
          "output_type": "stream",
          "name": "stdout",
          "text": [
            "5 5 5 5 5 \n",
            "4 4 4 4 4 \n",
            "3 3 3 3 3 \n",
            "2 2 2 2 2 \n",
            "1 1 1 1 1 \n"
          ]
        }
      ]
    },
    {
      "cell_type": "code",
      "source": [
        "n = 5\n",
        "for i in range(n):\n",
        "    for j in range(n):\n",
        "        print(n-i-1, end = \" \")\n",
        "    print()"
      ],
      "metadata": {
        "colab": {
          "base_uri": "https://localhost:8080/"
        },
        "id": "JNQG-XSmvXjl",
        "outputId": "9f7cdd7e-3916-4efe-d9d2-05bd4901ae06"
      },
      "execution_count": 14,
      "outputs": [
        {
          "output_type": "stream",
          "name": "stdout",
          "text": [
            "4 4 4 4 4 \n",
            "3 3 3 3 3 \n",
            "2 2 2 2 2 \n",
            "1 1 1 1 1 \n",
            "0 0 0 0 0 \n"
          ]
        }
      ]
    },
    {
      "cell_type": "code",
      "source": [
        "n = 5\n",
        "for i in range(n):\n",
        "    for j in range(n):\n",
        "        print(n-j-1, end = \" \")\n",
        "    print()"
      ],
      "metadata": {
        "colab": {
          "base_uri": "https://localhost:8080/"
        },
        "id": "kWiy_Be4vZom",
        "outputId": "c490e968-a8de-4c16-cd66-2ebc1c2151e4"
      },
      "execution_count": 15,
      "outputs": [
        {
          "output_type": "stream",
          "name": "stdout",
          "text": [
            "4 3 2 1 0 \n",
            "4 3 2 1 0 \n",
            "4 3 2 1 0 \n",
            "4 3 2 1 0 \n",
            "4 3 2 1 0 \n"
          ]
        }
      ]
    },
    {
      "cell_type": "code",
      "source": [
        "n = 5\n",
        "for i in range(n):\n",
        "    for j in range(n):\n",
        "        print(max(n-j-1, n-i-1), end = \" \")\n",
        "    print()"
      ],
      "metadata": {
        "colab": {
          "base_uri": "https://localhost:8080/"
        },
        "id": "Z-9deyMkvbtt",
        "outputId": "f3270e29-fd5c-41f4-a537-2fd28c87413b"
      },
      "execution_count": 16,
      "outputs": [
        {
          "output_type": "stream",
          "name": "stdout",
          "text": [
            "4 4 4 4 4 \n",
            "4 3 3 3 3 \n",
            "4 3 2 2 2 \n",
            "4 3 2 1 1 \n",
            "4 3 2 1 0 \n"
          ]
        }
      ]
    },
    {
      "cell_type": "code",
      "source": [
        "n = 5\n",
        "for i in range(n):\n",
        "    for j in range(n):\n",
        "        print(\n",
        "            max(max(i+1, j+1),max(n-j, n-i)\n",
        "        ), end = \" \")\n",
        "    print()"
      ],
      "metadata": {
        "colab": {
          "base_uri": "https://localhost:8080/"
        },
        "id": "3NZoquk7veou",
        "outputId": "cac555ab-b865-4db3-9255-9088754c419e"
      },
      "execution_count": 17,
      "outputs": [
        {
          "output_type": "stream",
          "name": "stdout",
          "text": [
            "5 5 5 5 5 \n",
            "5 4 4 4 5 \n",
            "5 4 3 4 5 \n",
            "5 4 4 4 5 \n",
            "5 5 5 5 5 \n"
          ]
        }
      ]
    },
    {
      "cell_type": "code",
      "source": [
        "sum([1, 2, 3, 4, 5, 5, 6, 7, 8, 9])"
      ],
      "metadata": {
        "colab": {
          "base_uri": "https://localhost:8080/"
        },
        "id": "XyCvYpe9vhIb",
        "outputId": "d1cc3f20-b958-4bb5-f250-795b65376bdc"
      },
      "execution_count": 18,
      "outputs": [
        {
          "output_type": "execute_result",
          "data": {
            "text/plain": [
              "50"
            ]
          },
          "metadata": {},
          "execution_count": 18
        }
      ]
    }
  ]
}