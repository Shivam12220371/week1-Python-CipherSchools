{
  "nbformat": 4,
  "nbformat_minor": 0,
  "metadata": {
    "colab": {
      "provenance": []
    },
    "kernelspec": {
      "name": "python3",
      "display_name": "Python 3"
    },
    "language_info": {
      "name": "python"
    }
  },
  "cells": [
    {
      "cell_type": "code",
      "execution_count": 1,
      "metadata": {
        "colab": {
          "base_uri": "https://localhost:8080/"
        },
        "id": "P7zKuA1Jmrup",
        "outputId": "c2eb9f8e-6717-4b68-ade2-80b739cc2851"
      },
      "outputs": [
        {
          "output_type": "stream",
          "name": "stdout",
          "text": [
            "Shivam Bhardwaj\n"
          ]
        }
      ],
      "source": [
        "print(\"Shivam Bhardwaj\")"
      ]
    },
    {
      "cell_type": "code",
      "source": [
        "print(\"1, 2, 3, 4, 5, 6, 1+5, 1+5i\")"
      ],
      "metadata": {
        "colab": {
          "base_uri": "https://localhost:8080/"
        },
        "id": "O_jswIW5nMwS",
        "outputId": "37616b8e-dca0-480c-bc7d-b9653eaa5b97"
      },
      "execution_count": 2,
      "outputs": [
        {
          "output_type": "stream",
          "name": "stdout",
          "text": [
            "1, 2, 3, 4, 5, 6, 1+5, 1+5i\n"
          ]
        }
      ]
    },
    {
      "cell_type": "code",
      "source": [
        "print(\"Hello\")\n",
        "print(\"World 1\")"
      ],
      "metadata": {
        "colab": {
          "base_uri": "https://localhost:8080/"
        },
        "id": "RobhOglXnPcp",
        "outputId": "12809709-bc1a-4d62-f0c3-d5b3afde28c6"
      },
      "execution_count": 3,
      "outputs": [
        {
          "output_type": "stream",
          "name": "stdout",
          "text": [
            "Hello\n",
            "World 1\n"
          ]
        }
      ]
    },
    {
      "cell_type": "code",
      "source": [
        "print(\"Hello\", end=\" \")\n",
        "print(\"World 1\")"
      ],
      "metadata": {
        "colab": {
          "base_uri": "https://localhost:8080/"
        },
        "id": "gDBShbs0nRdE",
        "outputId": "04d80af1-9cd3-4808-b944-639d9353ee79"
      },
      "execution_count": 4,
      "outputs": [
        {
          "output_type": "stream",
          "name": "stdout",
          "text": [
            "Hello World 1\n"
          ]
        }
      ]
    }
  ]
}